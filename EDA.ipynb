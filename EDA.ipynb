{
 "cells": [
  {
   "cell_type": "code",
   "execution_count": 1,
   "id": "a1a2a8a5",
   "metadata": {},
   "outputs": [],
   "source": [
    "import pandas as pd\n",
    "import numpy as np\n",
    "from matplotlib import pyplot as plt"
   ]
  },
  {
   "cell_type": "code",
   "execution_count": 2,
   "id": "00700f30",
   "metadata": {},
   "outputs": [],
   "source": [
    "\n",
    "df = pd.read_excel (r'BD SEAT .xlsx')"
   ]
  },
  {
   "cell_type": "code",
   "execution_count": 3,
   "id": "c2d43d95",
   "metadata": {
    "scrolled": true
   },
   "outputs": [
    {
     "data": {
      "text/html": [
       "<div>\n",
       "<style scoped>\n",
       "    .dataframe tbody tr th:only-of-type {\n",
       "        vertical-align: middle;\n",
       "    }\n",
       "\n",
       "    .dataframe tbody tr th {\n",
       "        vertical-align: top;\n",
       "    }\n",
       "\n",
       "    .dataframe thead th {\n",
       "        text-align: right;\n",
       "    }\n",
       "</style>\n",
       "<table border=\"1\" class=\"dataframe\">\n",
       "  <thead>\n",
       "    <tr style=\"text-align: right;\">\n",
       "      <th></th>\n",
       "      <th>RecordLocator</th>\n",
       "      <th>PassengerID</th>\n",
       "      <th>UnitDesignator</th>\n",
       "      <th>BookingBookDate</th>\n",
       "      <th>DepartureDate</th>\n",
       "      <th>FlightNumber</th>\n",
       "      <th>DepartureStation</th>\n",
       "      <th>ArrivalStation</th>\n",
       "      <th>SeatBookDate</th>\n",
       "      <th>SeatBookDateTime</th>\n",
       "    </tr>\n",
       "  </thead>\n",
       "  <tbody>\n",
       "    <tr>\n",
       "      <th>0</th>\n",
       "      <td>OC2MVG</td>\n",
       "      <td>96902153</td>\n",
       "      <td>10A</td>\n",
       "      <td>2022-06-25 18:07:29.063</td>\n",
       "      <td>2022-06-26</td>\n",
       "      <td>83241</td>\n",
       "      <td>BOG</td>\n",
       "      <td>ADZ</td>\n",
       "      <td>NaT</td>\n",
       "      <td>NaN</td>\n",
       "    </tr>\n",
       "    <tr>\n",
       "      <th>1</th>\n",
       "      <td>LH7RNE</td>\n",
       "      <td>96902241</td>\n",
       "      <td>10B</td>\n",
       "      <td>2022-06-25 18:08:31.210</td>\n",
       "      <td>2022-06-26</td>\n",
       "      <td>83241</td>\n",
       "      <td>BOG</td>\n",
       "      <td>ADZ</td>\n",
       "      <td>NaT</td>\n",
       "      <td>NaN</td>\n",
       "    </tr>\n",
       "    <tr>\n",
       "      <th>2</th>\n",
       "      <td>LH7RNE</td>\n",
       "      <td>96902237</td>\n",
       "      <td>10C</td>\n",
       "      <td>2022-06-25 18:08:31.210</td>\n",
       "      <td>2022-06-26</td>\n",
       "      <td>83241</td>\n",
       "      <td>BOG</td>\n",
       "      <td>ADZ</td>\n",
       "      <td>NaT</td>\n",
       "      <td>NaN</td>\n",
       "    </tr>\n",
       "    <tr>\n",
       "      <th>3</th>\n",
       "      <td>LH7RNE</td>\n",
       "      <td>96902238</td>\n",
       "      <td>10D</td>\n",
       "      <td>2022-06-25 18:08:31.210</td>\n",
       "      <td>2022-06-26</td>\n",
       "      <td>83241</td>\n",
       "      <td>BOG</td>\n",
       "      <td>ADZ</td>\n",
       "      <td>NaT</td>\n",
       "      <td>NaN</td>\n",
       "    </tr>\n",
       "    <tr>\n",
       "      <th>4</th>\n",
       "      <td>LH7RNE</td>\n",
       "      <td>96902257</td>\n",
       "      <td>10E</td>\n",
       "      <td>2022-06-25 18:08:31.210</td>\n",
       "      <td>2022-06-26</td>\n",
       "      <td>83241</td>\n",
       "      <td>BOG</td>\n",
       "      <td>ADZ</td>\n",
       "      <td>NaT</td>\n",
       "      <td>NaN</td>\n",
       "    </tr>\n",
       "  </tbody>\n",
       "</table>\n",
       "</div>"
      ],
      "text/plain": [
       "  RecordLocator  PassengerID UnitDesignator          BookingBookDate  \\\n",
       "0        OC2MVG     96902153            10A  2022-06-25 18:07:29.063   \n",
       "1        LH7RNE     96902241            10B  2022-06-25 18:08:31.210   \n",
       "2        LH7RNE     96902237            10C  2022-06-25 18:08:31.210   \n",
       "3        LH7RNE     96902238            10D  2022-06-25 18:08:31.210   \n",
       "4        LH7RNE     96902257            10E  2022-06-25 18:08:31.210   \n",
       "\n",
       "  DepartureDate  FlightNumber DepartureStation ArrivalStation SeatBookDate  \\\n",
       "0    2022-06-26         83241              BOG            ADZ          NaT   \n",
       "1    2022-06-26         83241              BOG            ADZ          NaT   \n",
       "2    2022-06-26         83241              BOG            ADZ          NaT   \n",
       "3    2022-06-26         83241              BOG            ADZ          NaT   \n",
       "4    2022-06-26         83241              BOG            ADZ          NaT   \n",
       "\n",
       "  SeatBookDateTime  \n",
       "0              NaN  \n",
       "1              NaN  \n",
       "2              NaN  \n",
       "3              NaN  \n",
       "4              NaN  "
      ]
     },
     "execution_count": 3,
     "metadata": {},
     "output_type": "execute_result"
    }
   ],
   "source": [
    "df.head()"
   ]
  },
  {
   "cell_type": "code",
   "execution_count": 4,
   "id": "ffa9fb30",
   "metadata": {},
   "outputs": [
    {
     "data": {
      "text/plain": [
       "14"
      ]
     },
     "execution_count": 4,
     "metadata": {},
     "output_type": "execute_result"
    }
   ],
   "source": [
    "dep = df['DepartureDate'].unique()\n",
    "countt = df[df['DepartureDate'] == dep[0]]\n",
    "len(countt['FlightNumber'].unique())"
   ]
  },
  {
   "cell_type": "code",
   "execution_count": 10,
   "id": "48845e90",
   "metadata": {},
   "outputs": [
    {
     "name": "stdout",
     "output_type": "stream",
     "text": [
      "5 59421 2022-06-08T00:00:00.000000000\n"
     ]
    }
   ],
   "source": [
    "num = 0\n",
    "minimum = 10000\n",
    "\n",
    "fecha = 0\n",
    "flight = 0\n",
    "\n",
    "\n",
    "for i in dep:\n",
    "    fli = df[df['DepartureDate'] == i]['FlightNumber'].unique()\n",
    "    d = df[df['DepartureDate'] == i]\n",
    "    \n",
    "    for j in fli:\n",
    "        num = max(d[d['FlightNumber'] == fli[0]]['RecordLocator'].value_counts() )       \n",
    "        \n",
    "        if num < minimum:\n",
    "            minimum = num\n",
    "            fecha = i\n",
    "            flight = j            \n",
    "print(minimum, flight, fecha)"
   ]
  },
  {
   "cell_type": "code",
   "execution_count": 6,
   "id": "bb1a0955",
   "metadata": {},
   "outputs": [
    {
     "data": {
      "text/plain": [
       "TDQHSA    5\n",
       "WYE6XM    5\n",
       "LYDJSJ    4\n",
       "ICEKUD    4\n",
       "I5F7HI    4\n",
       "C7VE7M    4\n",
       "N7I32P    4\n",
       "NHFW6B    3\n",
       "CEKW4H    3\n",
       "O85TQC    3\n",
       "YD7T2A    3\n",
       "OFBIXK    2\n",
       "IBY62D    2\n",
       "D5CUHI    2\n",
       "O9KW7Z    2\n",
       "WDK6GA    2\n",
       "HY84FW    2\n",
       "C4PSPY    2\n",
       "BFHRXH    2\n",
       "BD8UHN    2\n",
       "U3GEYR    2\n",
       "TDEIRQ    2\n",
       "C7LCVP    2\n",
       "C94L5J    2\n",
       "OFWHMX    2\n",
       "Y6V32F    2\n",
       "V4WH6L    2\n",
       "HHJLQR    2\n",
       "FHM9YR    1\n",
       "LDIFGN    1\n",
       "LFGIYK    1\n",
       "P8E4HP    1\n",
       "W82CXF    1\n",
       "DGFLGE    1\n",
       "AF69GH    1\n",
       "HCMKHQ    1\n",
       "C8G38Z    1\n",
       "UFTVSK    1\n",
       "WE31TQ    1\n",
       "X9H3QP    1\n",
       "KD3WNQ    1\n",
       "TFQI9H    1\n",
       "CYF89G    1\n",
       "UC5VYG    1\n",
       "GF1WWK    1\n",
       "BH5UXR    1\n",
       "IDL3HN    1\n",
       "Name: RecordLocator, dtype: int64"
      ]
     },
     "execution_count": 6,
     "metadata": {},
     "output_type": "execute_result"
    }
   ],
   "source": [
    "final = df[df['DepartureDate'] == fecha]\n",
    "finall = final[final['FlightNumber'] == flight]\n",
    "finall['RecordLocator'].value_counts()"
   ]
  },
  {
   "cell_type": "code",
   "execution_count": 7,
   "id": "bc21f6d1",
   "metadata": {},
   "outputs": [
    {
     "data": {
      "text/html": [
       "<div>\n",
       "<style scoped>\n",
       "    .dataframe tbody tr th:only-of-type {\n",
       "        vertical-align: middle;\n",
       "    }\n",
       "\n",
       "    .dataframe tbody tr th {\n",
       "        vertical-align: top;\n",
       "    }\n",
       "\n",
       "    .dataframe thead th {\n",
       "        text-align: right;\n",
       "    }\n",
       "</style>\n",
       "<table border=\"1\" class=\"dataframe\">\n",
       "  <thead>\n",
       "    <tr style=\"text-align: right;\">\n",
       "      <th></th>\n",
       "      <th>RecordLocator</th>\n",
       "      <th>PassengerID</th>\n",
       "      <th>UnitDesignator</th>\n",
       "      <th>BookingBookDate</th>\n",
       "      <th>DepartureDate</th>\n",
       "      <th>FlightNumber</th>\n",
       "      <th>DepartureStation</th>\n",
       "      <th>ArrivalStation</th>\n",
       "      <th>SeatBookDate</th>\n",
       "      <th>SeatBookDateTime</th>\n",
       "    </tr>\n",
       "  </thead>\n",
       "  <tbody>\n",
       "    <tr>\n",
       "      <th>417</th>\n",
       "      <td>MFUDXX</td>\n",
       "      <td>95258177</td>\n",
       "      <td>14A</td>\n",
       "      <td>2022-04-11 15:00:34.340</td>\n",
       "      <td>2022-06-15</td>\n",
       "      <td>55101</td>\n",
       "      <td>MDE</td>\n",
       "      <td>ADZ</td>\n",
       "      <td>2022-04-11</td>\n",
       "      <td>10:00:34.3400000</td>\n",
       "    </tr>\n",
       "    <tr>\n",
       "      <th>418</th>\n",
       "      <td>MFUDXX</td>\n",
       "      <td>95258178</td>\n",
       "      <td>14B</td>\n",
       "      <td>2022-04-11 15:00:34.340</td>\n",
       "      <td>2022-06-15</td>\n",
       "      <td>55101</td>\n",
       "      <td>MDE</td>\n",
       "      <td>ADZ</td>\n",
       "      <td>2022-04-11</td>\n",
       "      <td>10:00:34.3400000</td>\n",
       "    </tr>\n",
       "    <tr>\n",
       "      <th>419</th>\n",
       "      <td>MFUDXX</td>\n",
       "      <td>95258179</td>\n",
       "      <td>14C</td>\n",
       "      <td>2022-04-11 15:00:34.340</td>\n",
       "      <td>2022-06-15</td>\n",
       "      <td>55101</td>\n",
       "      <td>MDE</td>\n",
       "      <td>ADZ</td>\n",
       "      <td>2022-04-11</td>\n",
       "      <td>10:00:34.3400000</td>\n",
       "    </tr>\n",
       "    <tr>\n",
       "      <th>421</th>\n",
       "      <td>LH2J7R</td>\n",
       "      <td>90464669</td>\n",
       "      <td>14E</td>\n",
       "      <td>2022-06-11 22:38:02.377</td>\n",
       "      <td>2022-06-15</td>\n",
       "      <td>55101</td>\n",
       "      <td>MDE</td>\n",
       "      <td>ADZ</td>\n",
       "      <td>2022-02-02</td>\n",
       "      <td>17:40:19.3300000</td>\n",
       "    </tr>\n",
       "    <tr>\n",
       "      <th>422</th>\n",
       "      <td>LH2J7R</td>\n",
       "      <td>90464668</td>\n",
       "      <td>14F</td>\n",
       "      <td>2022-06-11 22:38:02.377</td>\n",
       "      <td>2022-06-15</td>\n",
       "      <td>55101</td>\n",
       "      <td>MDE</td>\n",
       "      <td>ADZ</td>\n",
       "      <td>2022-02-02</td>\n",
       "      <td>17:40:19.3300000</td>\n",
       "    </tr>\n",
       "  </tbody>\n",
       "</table>\n",
       "</div>"
      ],
      "text/plain": [
       "    RecordLocator  PassengerID UnitDesignator          BookingBookDate  \\\n",
       "417        MFUDXX     95258177            14A  2022-04-11 15:00:34.340   \n",
       "418        MFUDXX     95258178            14B  2022-04-11 15:00:34.340   \n",
       "419        MFUDXX     95258179            14C  2022-04-11 15:00:34.340   \n",
       "421        LH2J7R     90464669            14E  2022-06-11 22:38:02.377   \n",
       "422        LH2J7R     90464668            14F  2022-06-11 22:38:02.377   \n",
       "\n",
       "    DepartureDate  FlightNumber DepartureStation ArrivalStation SeatBookDate  \\\n",
       "417    2022-06-15         55101              MDE            ADZ   2022-04-11   \n",
       "418    2022-06-15         55101              MDE            ADZ   2022-04-11   \n",
       "419    2022-06-15         55101              MDE            ADZ   2022-04-11   \n",
       "421    2022-06-15         55101              MDE            ADZ   2022-02-02   \n",
       "422    2022-06-15         55101              MDE            ADZ   2022-02-02   \n",
       "\n",
       "     SeatBookDateTime  \n",
       "417  10:00:34.3400000  \n",
       "418  10:00:34.3400000  \n",
       "419  10:00:34.3400000  \n",
       "421  17:40:19.3300000  \n",
       "422  17:40:19.3300000  "
      ]
     },
     "execution_count": 7,
     "metadata": {},
     "output_type": "execute_result"
    }
   ],
   "source": [
    "df2.head()"
   ]
  },
  {
   "cell_type": "code",
   "execution_count": 8,
   "id": "607c1a49",
   "metadata": {},
   "outputs": [],
   "source": [
    "lim = 10\n",
    "\n",
    "values = df2['UnitDesignator'].value_counts()[0:lim]\n",
    "courses = values.keys()"
   ]
  },
  {
   "cell_type": "code",
   "execution_count": 9,
   "id": "3dbe93f9",
   "metadata": {},
   "outputs": [
    {
     "data": {
      "image/png": "[encoded data removed]",
      "text/plain": [
       "<Figure size 432x288 with 1 Axes>"
      ]
     },
     "metadata": {
      "needs_background": "light"
     },
     "output_type": "display_data"
    }
   ],
   "source": [
    "plt.bar(courses, values, color = 'darkblue')\n",
    "plt.xlabel(\"Sillas\")\n",
    "plt.ylabel(\"No. de veces compradas\")\n",
    "plt.title(\"Sillas compradas\")\n",
    "plt.show()"
   ]
  },
  {
   "cell_type": "code",
   "execution_count": 10,
   "id": "e8b587db",
   "metadata": {},
   "outputs": [
    {
     "data": {
      "text/plain": [
       "48"
      ]
     },
     "execution_count": 10,
     "metadata": {},
     "output_type": "execute_result"
    }
   ],
   "source": [
    "len(df2['FlightNumber'].unique())"
   ]
  },
  {
   "cell_type": "code",
   "execution_count": 11,
   "id": "60b02c85",
   "metadata": {},
   "outputs": [],
   "source": [
    "### Se puede normalizar el número de sillas compradas y determinar un \"plus\" para cada silla y multiplicarlo por el valor norm\n",
    "### ¿Cómo determino el número de vuelos en la base de datos?"
   ]
  },
  {
   "cell_type": "code",
   "execution_count": 12,
   "id": "2b7604ee",
   "metadata": {},
   "outputs": [
    {
     "data": {
      "text/plain": [
       "188"
      ]
     },
     "execution_count": 12,
     "metadata": {},
     "output_type": "execute_result"
    }
   ],
   "source": [
    "len(df2['UnitDesignator'].value_counts())"
   ]
  },
  {
   "cell_type": "code",
   "execution_count": 13,
   "id": "290d803f",
   "metadata": {},
   "outputs": [],
   "source": [
    "maximo = max(df2['UnitDesignator'].value_counts())"
   ]
  },
  {
   "cell_type": "code",
   "execution_count": 14,
   "id": "4c5172dc",
   "metadata": {},
   "outputs": [],
   "source": [
    "normalizado = df2['UnitDesignator'].value_counts()/maximo"
   ]
  },
  {
   "cell_type": "code",
   "execution_count": 15,
   "id": "8523f91d",
   "metadata": {
    "scrolled": true
   },
   "outputs": [
    {
     "data": {
      "text/plain": [
       "188"
      ]
     },
     "execution_count": 15,
     "metadata": {},
     "output_type": "execute_result"
    }
   ],
   "source": [
    "len(normalizado)"
   ]
  },
  {
   "cell_type": "code",
   "execution_count": 16,
   "id": "b97ab4bb",
   "metadata": {},
   "outputs": [],
   "source": [
    "vec = {}\n",
    "for i in range(0, len(normalizado.index)):\n",
    "    if len(normalizado.index[i]) == 2 :\n",
    "        if normalizado.index[i][-1] == 'A':\n",
    "            vec[int(normalizado.index[i][0])] = 1\n",
    "        elif normalizado.index[i][-1] == 'B':\n",
    "            vec[int(normalizado.index[i][0])+32] = 1\n",
    "        elif normalizado.index[i][-1] == 'C':\n",
    "            vec[int(normalizado.index[i][0])+32+32] = 1\n",
    "        elif normalizado.index[i][-1] == 'D':\n",
    "            vec[int(normalizado.index[i][0])+32+32+31] = 1\n",
    "        elif normalizado.index[i][-1] == 'E':\n",
    "            vec[int(normalizado.index[i][0])+32+32+31+31] = 1\n",
    "        elif normalizado.index[i][-1] == 'F':\n",
    "            vec[int(normalizado.index[i][0])+32+32+31+31+31] = 1\n",
    "            \n",
    "    elif len(normalizado.index[i]) == 3 :\n",
    "        if normalizado.index[i][-1] == 'A':\n",
    "            vec[int(normalizado.index[i][0:2])] = 1\n",
    "        elif normalizado.index[i][-1] == 'B':\n",
    "            vec[int(normalizado.index[i][0:2])+32] = 1\n",
    "        elif normalizado.index[i][-1] == 'C':\n",
    "            vec[int(normalizado.index[i][0:2])+32+32] = 1\n",
    "        elif normalizado.index[i][-1] == 'D':\n",
    "            vec[int(normalizado.index[i][0:2])+32+32+31] = 1\n",
    "        elif normalizado.index[i][-1] == 'E':\n",
    "            vec[int(normalizado.index[i][0:2])+32+32+31+31] = 1\n",
    "        elif normalizado.index[i][-1] == 'F':\n",
    "            vec[int(normalizado.index[i][0:2])+32+32+31+31+31] = 1"
   ]
  },
  {
   "cell_type": "code",
   "execution_count": 17,
   "id": "9a6b2ad3",
   "metadata": {},
   "outputs": [],
   "source": [
    "contador = -1\n",
    "for i in vec.keys():\n",
    "    contador += 1\n",
    "    vec[i] = normalizado.values[contador]"
   ]
  },
  {
   "cell_type": "code",
   "execution_count": 18,
   "id": "5d8d5480",
   "metadata": {},
   "outputs": [
    {
     "data": {
      "text/plain": [
       "{56: 1.0,\n",
       " 24: 1.0,\n",
       " 2: 0.9809523809523809,\n",
       " 151: 0.9428571428571428,\n",
       " 150: 0.9380952380952381,\n",
       " 182: 0.919047619047619,\n",
       " 181: 0.919047619047619,\n",
       " 6: 0.9047619047619048,\n",
       " 163: 0.8857142857142857,\n",
       " 66: 0.8809523809523809,\n",
       " 155: 0.861904761904762,\n",
       " 57: 0.861904761904762,\n",
       " 97: 0.861904761904762,\n",
       " 186: 0.8285714285714286,\n",
       " 59: 0.8142857142857143,\n",
       " 38: 0.8095238095238095,\n",
       " 27: 0.7904761904761904,\n",
       " 132: 0.7666666666666667,\n",
       " 54: 0.7571428571428571,\n",
       " 16: 0.7523809523809524,\n",
       " 3: 0.7428571428571429,\n",
       " 159: 0.7428571428571429,\n",
       " 25: 0.7380952380952381,\n",
       " 26: 0.7285714285714285,\n",
       " 22: 0.719047619047619,\n",
       " 48: 0.719047619047619,\n",
       " 1: 0.7095238095238096,\n",
       " 47: 0.7095238095238096,\n",
       " 46: 0.7,\n",
       " 8: 0.7,\n",
       " 34: 0.7,\n",
       " 7: 0.7,\n",
       " 152: 0.6952380952380952,\n",
       " 158: 0.680952380952381,\n",
       " 184: 0.6714285714285714,\n",
       " 29: 0.6619047619047619,\n",
       " 153: 0.6619047619047619,\n",
       " 33: 0.6619047619047619,\n",
       " 58: 0.6523809523809524,\n",
       " 53: 0.6523809523809524,\n",
       " 4: 0.6476190476190476,\n",
       " 61: 0.6476190476190476,\n",
       " 160: 0.6428571428571429,\n",
       " 40: 0.6333333333333333,\n",
       " 14: 0.6333333333333333,\n",
       " 128: 0.6333333333333333,\n",
       " 127: 0.6285714285714286,\n",
       " 39: 0.6285714285714286,\n",
       " 21: 0.6285714285714286,\n",
       " 183: 0.6238095238095238,\n",
       " 164: 0.6142857142857143,\n",
       " 156: 0.6047619047619047,\n",
       " 15: 0.5857142857142857,\n",
       " 141: 0.580952380952381,\n",
       " 175: 0.5761904761904761,\n",
       " 144: 0.5666666666666667,\n",
       " 62: 0.5571428571428572,\n",
       " 140: 0.5523809523809524,\n",
       " 52: 0.5523809523809524,\n",
       " 36: 0.5523809523809524,\n",
       " 187: 0.5523809523809524,\n",
       " 51: 0.5523809523809524,\n",
       " 30: 0.5333333333333333,\n",
       " 49: 0.5238095238095238,\n",
       " 35: 0.5238095238095238,\n",
       " 98: 0.5238095238095238,\n",
       " 172: 0.5190476190476191,\n",
       " 129: 0.5190476190476191,\n",
       " 89: 0.5190476190476191,\n",
       " 20: 0.5142857142857142,\n",
       " 23: 0.5095238095238095,\n",
       " 70: 0.5047619047619047,\n",
       " 17: 0.5047619047619047,\n",
       " 146: 0.5047619047619047,\n",
       " 145: 0.5,\n",
       " 154: 0.5,\n",
       " 91: 0.49523809523809526,\n",
       " 120: 0.49523809523809526,\n",
       " 9: 0.49523809523809526,\n",
       " 55: 0.49523809523809526,\n",
       " 121: 0.49523809523809526,\n",
       " 177: 0.49047619047619045,\n",
       " 60: 0.49047619047619045,\n",
       " 124: 0.48095238095238096,\n",
       " 88: 0.48095238095238096,\n",
       " 67: 0.4714285714285714,\n",
       " 133: 0.4714285714285714,\n",
       " 78: 0.4714285714285714,\n",
       " 96: 0.4714285714285714,\n",
       " 122: 0.4666666666666667,\n",
       " 41: 0.46190476190476193,\n",
       " 171: 0.4523809523809524,\n",
       " 147: 0.4523809523809524,\n",
       " 65: 0.44761904761904764,\n",
       " 86: 0.44761904761904764,\n",
       " 178: 0.44285714285714284,\n",
       " 19: 0.44285714285714284,\n",
       " 119: 0.44285714285714284,\n",
       " 28: 0.4380952380952381,\n",
       " 101: 0.4380952380952381,\n",
       " 173: 0.42857142857142855,\n",
       " 125: 0.41904761904761906,\n",
       " 134: 0.4142857142857143,\n",
       " 63: 0.4142857142857143,\n",
       " 149: 0.4142857142857143,\n",
       " 185: 0.4142857142857143,\n",
       " 90: 0.4095238095238095,\n",
       " 79: 0.4095238095238095,\n",
       " 165: 0.3952380952380952,\n",
       " 68: 0.3904761904761905,\n",
       " 93: 0.3904761904761905,\n",
       " 18: 0.3904761904761905,\n",
       " 176: 0.38571428571428573,\n",
       " 161: 0.38571428571428573,\n",
       " 50: 0.38095238095238093,\n",
       " 80: 0.38095238095238093,\n",
       " 157: 0.3761904761904762,\n",
       " 71: 0.3761904761904762,\n",
       " 142: 0.3761904761904762,\n",
       " 166: 0.37142857142857144,\n",
       " 130: 0.36666666666666664,\n",
       " 83: 0.36666666666666664,\n",
       " 143: 0.36666666666666664,\n",
       " 148: 0.3619047619047619,\n",
       " 110: 0.3523809523809524,\n",
       " 94: 0.3523809523809524,\n",
       " 188: 0.3476190476190476,\n",
       " 92: 0.3333333333333333,\n",
       " 123: 0.32857142857142857,\n",
       " 42: 0.32857142857142857,\n",
       " 31: 0.3238095238095238,\n",
       " 180: 0.3238095238095238,\n",
       " 95: 0.319047619047619,\n",
       " 10: 0.319047619047619,\n",
       " 169: 0.3142857142857143,\n",
       " 114: 0.30952380952380953,\n",
       " 117: 0.3047619047619048,\n",
       " 109: 0.3047619047619048,\n",
       " 174: 0.3,\n",
       " 113: 0.3,\n",
       " 12: 0.29523809523809524,\n",
       " 118: 0.2904761904761905,\n",
       " 37: 0.2904761904761905,\n",
       " 72: 0.2857142857142857,\n",
       " 138: 0.28095238095238095,\n",
       " 43: 0.2714285714285714,\n",
       " 44: 0.2714285714285714,\n",
       " 115: 0.2714285714285714,\n",
       " 135: 0.26666666666666666,\n",
       " 11: 0.26666666666666666,\n",
       " 102: 0.26666666666666666,\n",
       " 87: 0.26666666666666666,\n",
       " 167: 0.2571428571428571,\n",
       " 99: 0.2571428571428571,\n",
       " 126: 0.24761904761904763,\n",
       " 104: 0.24761904761904763,\n",
       " 131: 0.23809523809523808,\n",
       " 179: 0.23809523809523808,\n",
       " 136: 0.23333333333333334,\n",
       " 84: 0.23333333333333334,\n",
       " 137: 0.23333333333333334,\n",
       " 103: 0.22857142857142856,\n",
       " 73: 0.22380952380952382,\n",
       " 5: 0.22380952380952382,\n",
       " 168: 0.20952380952380953,\n",
       " 82: 0.20952380952380953,\n",
       " 81: 0.20476190476190476,\n",
       " 111: 0.20476190476190476,\n",
       " 170: 0.2,\n",
       " 69: 0.19523809523809524,\n",
       " 139: 0.18571428571428572,\n",
       " 64: 0.18095238095238095,\n",
       " 74: 0.18095238095238095,\n",
       " 85: 0.17142857142857143,\n",
       " 162: 0.1619047619047619,\n",
       " 45: 0.15714285714285714,\n",
       " 112: 0.15714285714285714,\n",
       " 116: 0.1523809523809524,\n",
       " 100: 0.1523809523809524,\n",
       " 13: 0.1380952380952381,\n",
       " 77: 0.1380952380952381,\n",
       " 76: 0.13333333333333333,\n",
       " 107: 0.11904761904761904,\n",
       " 105: 0.10952380952380952,\n",
       " 106: 0.08095238095238096,\n",
       " 108: 0.07142857142857142,\n",
       " 75: 0.07142857142857142}"
      ]
     },
     "execution_count": 18,
     "metadata": {},
     "output_type": "execute_result"
    }
   ],
   "source": [
    "vec"
   ]
  },
  {
   "cell_type": "code",
   "execution_count": 19,
   "id": "37a652ee",
   "metadata": {},
   "outputs": [],
   "source": [
    "values = df['RecordLocator'].value_counts()[0:5]\n",
    "courses = values.keys()"
   ]
  },
  {
   "cell_type": "code",
   "execution_count": 25,
   "id": "fd533258",
   "metadata": {},
   "outputs": [
    {
     "data": {
      "image/png": "[encoded data removed]",
      "text/plain": [
       "<Figure size 432x288 with 1 Axes>"
      ]
     },
     "metadata": {
      "needs_background": "light"
     },
     "output_type": "display_data"
    }
   ],
   "source": [
    "plt.bar(courses, values, color = 'darkblue')\n",
    "plt.xlabel(\"Reservas\")\n",
    "\n",
    "plt.show()"
   ]
  },
  {
   "cell_type": "code",
   "execution_count": 26,
   "id": "b6aa34e4",
   "metadata": {},
   "outputs": [
    {
     "data": {
      "text/plain": [
       "L66W5F    183\n",
       "F8ZK3M    129\n",
       "K9MH9J     60\n",
       "DGYQHE     59\n",
       "C6QS2P     56\n",
       "Name: RecordLocator, dtype: int64"
      ]
     },
     "execution_count": 26,
     "metadata": {},
     "output_type": "execute_result"
    }
   ],
   "source": [
    "values"
   ]
  },
  {
   "cell_type": "code",
   "execution_count": 27,
   "id": "b7bc0ad8",
   "metadata": {
    "scrolled": true
   },
   "outputs": [
    {
     "data": {
      "text/html": [
       "<div>\n",
       "<style scoped>\n",
       "    .dataframe tbody tr th:only-of-type {\n",
       "        vertical-align: middle;\n",
       "    }\n",
       "\n",
       "    .dataframe tbody tr th {\n",
       "        vertical-align: top;\n",
       "    }\n",
       "\n",
       "    .dataframe thead th {\n",
       "        text-align: right;\n",
       "    }\n",
       "</style>\n",
       "<table border=\"1\" class=\"dataframe\">\n",
       "  <thead>\n",
       "    <tr style=\"text-align: right;\">\n",
       "      <th></th>\n",
       "      <th>RecordLocator</th>\n",
       "      <th>PassengerID</th>\n",
       "      <th>UnitDesignator</th>\n",
       "      <th>BookingBookDate</th>\n",
       "      <th>DepartureDate</th>\n",
       "      <th>FlightNumber</th>\n",
       "      <th>DepartureStation</th>\n",
       "      <th>ArrivalStation</th>\n",
       "      <th>SeatBookDate</th>\n",
       "      <th>SeatBookDateTime</th>\n",
       "    </tr>\n",
       "  </thead>\n",
       "  <tbody>\n",
       "    <tr>\n",
       "      <th>0</th>\n",
       "      <td>OC2MVG</td>\n",
       "      <td>96902153</td>\n",
       "      <td>10A</td>\n",
       "      <td>2022-06-25 18:07:29.063</td>\n",
       "      <td>2022-06-26</td>\n",
       "      <td>83241</td>\n",
       "      <td>BOG</td>\n",
       "      <td>ADZ</td>\n",
       "      <td>NaT</td>\n",
       "      <td>NaN</td>\n",
       "    </tr>\n",
       "    <tr>\n",
       "      <th>1</th>\n",
       "      <td>LH7RNE</td>\n",
       "      <td>96902241</td>\n",
       "      <td>10B</td>\n",
       "      <td>2022-06-25 18:08:31.210</td>\n",
       "      <td>2022-06-26</td>\n",
       "      <td>83241</td>\n",
       "      <td>BOG</td>\n",
       "      <td>ADZ</td>\n",
       "      <td>NaT</td>\n",
       "      <td>NaN</td>\n",
       "    </tr>\n",
       "    <tr>\n",
       "      <th>2</th>\n",
       "      <td>LH7RNE</td>\n",
       "      <td>96902237</td>\n",
       "      <td>10C</td>\n",
       "      <td>2022-06-25 18:08:31.210</td>\n",
       "      <td>2022-06-26</td>\n",
       "      <td>83241</td>\n",
       "      <td>BOG</td>\n",
       "      <td>ADZ</td>\n",
       "      <td>NaT</td>\n",
       "      <td>NaN</td>\n",
       "    </tr>\n",
       "    <tr>\n",
       "      <th>3</th>\n",
       "      <td>LH7RNE</td>\n",
       "      <td>96902238</td>\n",
       "      <td>10D</td>\n",
       "      <td>2022-06-25 18:08:31.210</td>\n",
       "      <td>2022-06-26</td>\n",
       "      <td>83241</td>\n",
       "      <td>BOG</td>\n",
       "      <td>ADZ</td>\n",
       "      <td>NaT</td>\n",
       "      <td>NaN</td>\n",
       "    </tr>\n",
       "    <tr>\n",
       "      <th>4</th>\n",
       "      <td>LH7RNE</td>\n",
       "      <td>96902257</td>\n",
       "      <td>10E</td>\n",
       "      <td>2022-06-25 18:08:31.210</td>\n",
       "      <td>2022-06-26</td>\n",
       "      <td>83241</td>\n",
       "      <td>BOG</td>\n",
       "      <td>ADZ</td>\n",
       "      <td>NaT</td>\n",
       "      <td>NaN</td>\n",
       "    </tr>\n",
       "    <tr>\n",
       "      <th>...</th>\n",
       "      <td>...</td>\n",
       "      <td>...</td>\n",
       "      <td>...</td>\n",
       "      <td>...</td>\n",
       "      <td>...</td>\n",
       "      <td>...</td>\n",
       "      <td>...</td>\n",
       "      <td>...</td>\n",
       "      <td>...</td>\n",
       "      <td>...</td>\n",
       "    </tr>\n",
       "    <tr>\n",
       "      <th>55595</th>\n",
       "      <td>UI1LTE</td>\n",
       "      <td>100851882</td>\n",
       "      <td>7D</td>\n",
       "      <td>2022-06-26 14:50:09.017</td>\n",
       "      <td>2022-06-29</td>\n",
       "      <td>59541</td>\n",
       "      <td>BOG</td>\n",
       "      <td>ADZ</td>\n",
       "      <td>2022-06-26</td>\n",
       "      <td>09:50:09.0166667</td>\n",
       "    </tr>\n",
       "    <tr>\n",
       "      <th>55596</th>\n",
       "      <td>A7JPTC</td>\n",
       "      <td>100851497</td>\n",
       "      <td>7E</td>\n",
       "      <td>2022-06-26 14:42:33.203</td>\n",
       "      <td>2022-06-29</td>\n",
       "      <td>59541</td>\n",
       "      <td>BOG</td>\n",
       "      <td>ADZ</td>\n",
       "      <td>2022-06-26</td>\n",
       "      <td>09:42:33.2033333</td>\n",
       "    </tr>\n",
       "    <tr>\n",
       "      <th>55597</th>\n",
       "      <td>A7JPTC</td>\n",
       "      <td>100851498</td>\n",
       "      <td>7F</td>\n",
       "      <td>2022-06-26 14:42:33.203</td>\n",
       "      <td>2022-06-29</td>\n",
       "      <td>59541</td>\n",
       "      <td>BOG</td>\n",
       "      <td>ADZ</td>\n",
       "      <td>2022-06-26</td>\n",
       "      <td>09:42:33.2033333</td>\n",
       "    </tr>\n",
       "    <tr>\n",
       "      <th>55598</th>\n",
       "      <td>WCNBYG</td>\n",
       "      <td>100966847</td>\n",
       "      <td>8A</td>\n",
       "      <td>2022-06-28 11:40:13.423</td>\n",
       "      <td>2022-06-29</td>\n",
       "      <td>59541</td>\n",
       "      <td>BOG</td>\n",
       "      <td>ADZ</td>\n",
       "      <td>2022-06-28</td>\n",
       "      <td>06:40:13.4233333</td>\n",
       "    </tr>\n",
       "    <tr>\n",
       "      <th>55599</th>\n",
       "      <td>JG643E</td>\n",
       "      <td>100776318</td>\n",
       "      <td>8D</td>\n",
       "      <td>2022-06-24 23:25:15.077</td>\n",
       "      <td>2022-06-29</td>\n",
       "      <td>59541</td>\n",
       "      <td>BOG</td>\n",
       "      <td>ADZ</td>\n",
       "      <td>NaT</td>\n",
       "      <td>NaN</td>\n",
       "    </tr>\n",
       "  </tbody>\n",
       "</table>\n",
       "<p>55600 rows × 10 columns</p>\n",
       "</div>"
      ],
      "text/plain": [
       "      RecordLocator  PassengerID UnitDesignator          BookingBookDate  \\\n",
       "0            OC2MVG     96902153            10A  2022-06-25 18:07:29.063   \n",
       "1            LH7RNE     96902241            10B  2022-06-25 18:08:31.210   \n",
       "2            LH7RNE     96902237            10C  2022-06-25 18:08:31.210   \n",
       "3            LH7RNE     96902238            10D  2022-06-25 18:08:31.210   \n",
       "4            LH7RNE     96902257            10E  2022-06-25 18:08:31.210   \n",
       "...             ...          ...            ...                      ...   \n",
       "55595        UI1LTE    100851882             7D  2022-06-26 14:50:09.017   \n",
       "55596        A7JPTC    100851497             7E  2022-06-26 14:42:33.203   \n",
       "55597        A7JPTC    100851498             7F  2022-06-26 14:42:33.203   \n",
       "55598        WCNBYG    100966847             8A  2022-06-28 11:40:13.423   \n",
       "55599        JG643E    100776318             8D  2022-06-24 23:25:15.077   \n",
       "\n",
       "      DepartureDate  FlightNumber DepartureStation ArrivalStation  \\\n",
       "0        2022-06-26         83241              BOG            ADZ   \n",
       "1        2022-06-26         83241              BOG            ADZ   \n",
       "2        2022-06-26         83241              BOG            ADZ   \n",
       "3        2022-06-26         83241              BOG            ADZ   \n",
       "4        2022-06-26         83241              BOG            ADZ   \n",
       "...             ...           ...              ...            ...   \n",
       "55595    2022-06-29         59541              BOG            ADZ   \n",
       "55596    2022-06-29         59541              BOG            ADZ   \n",
       "55597    2022-06-29         59541              BOG            ADZ   \n",
       "55598    2022-06-29         59541              BOG            ADZ   \n",
       "55599    2022-06-29         59541              BOG            ADZ   \n",
       "\n",
       "      SeatBookDate  SeatBookDateTime  \n",
       "0              NaT               NaN  \n",
       "1              NaT               NaN  \n",
       "2              NaT               NaN  \n",
       "3              NaT               NaN  \n",
       "4              NaT               NaN  \n",
       "...            ...               ...  \n",
       "55595   2022-06-26  09:50:09.0166667  \n",
       "55596   2022-06-26  09:42:33.2033333  \n",
       "55597   2022-06-26  09:42:33.2033333  \n",
       "55598   2022-06-28  06:40:13.4233333  \n",
       "55599          NaT               NaN  \n",
       "\n",
       "[55600 rows x 10 columns]"
      ]
     },
     "execution_count": 27,
     "metadata": {},
     "output_type": "execute_result"
    }
   ],
   "source": [
    "df"
   ]
  },
  {
   "cell_type": "code",
   "execution_count": 28,
   "id": "64aabc55",
   "metadata": {},
   "outputs": [
    {
     "data": {
      "text/plain": [
       "Timestamp('2022-06-29 00:00:00')"
      ]
     },
     "execution_count": 28,
     "metadata": {},
     "output_type": "execute_result"
    }
   ],
   "source": [
    "df['DepartureDate'][55595]"
   ]
  },
  {
   "cell_type": "code",
   "execution_count": 29,
   "id": "3a19cef7",
   "metadata": {},
   "outputs": [
    {
     "data": {
      "text/html": [
       "<div>\n",
       "<style scoped>\n",
       "    .dataframe tbody tr th:only-of-type {\n",
       "        vertical-align: middle;\n",
       "    }\n",
       "\n",
       "    .dataframe tbody tr th {\n",
       "        vertical-align: top;\n",
       "    }\n",
       "\n",
       "    .dataframe thead th {\n",
       "        text-align: right;\n",
       "    }\n",
       "</style>\n",
       "<table border=\"1\" class=\"dataframe\">\n",
       "  <thead>\n",
       "    <tr style=\"text-align: right;\">\n",
       "      <th></th>\n",
       "      <th>RecordLocator</th>\n",
       "      <th>PassengerID</th>\n",
       "      <th>UnitDesignator</th>\n",
       "      <th>BookingBookDate</th>\n",
       "      <th>DepartureDate</th>\n",
       "      <th>FlightNumber</th>\n",
       "      <th>DepartureStation</th>\n",
       "      <th>ArrivalStation</th>\n",
       "      <th>SeatBookDate</th>\n",
       "      <th>SeatBookDateTime</th>\n",
       "    </tr>\n",
       "  </thead>\n",
       "  <tbody>\n",
       "    <tr>\n",
       "      <th>0</th>\n",
       "      <td>OC2MVG</td>\n",
       "      <td>96902153</td>\n",
       "      <td>10A</td>\n",
       "      <td>2022-06-25 18:07:29.063</td>\n",
       "      <td>2022-06-26</td>\n",
       "      <td>83241</td>\n",
       "      <td>BOG</td>\n",
       "      <td>ADZ</td>\n",
       "      <td>NaT</td>\n",
       "      <td>NaN</td>\n",
       "    </tr>\n",
       "    <tr>\n",
       "      <th>1</th>\n",
       "      <td>LH7RNE</td>\n",
       "      <td>96902241</td>\n",
       "      <td>10B</td>\n",
       "      <td>2022-06-25 18:08:31.210</td>\n",
       "      <td>2022-06-26</td>\n",
       "      <td>83241</td>\n",
       "      <td>BOG</td>\n",
       "      <td>ADZ</td>\n",
       "      <td>NaT</td>\n",
       "      <td>NaN</td>\n",
       "    </tr>\n",
       "    <tr>\n",
       "      <th>2</th>\n",
       "      <td>LH7RNE</td>\n",
       "      <td>96902237</td>\n",
       "      <td>10C</td>\n",
       "      <td>2022-06-25 18:08:31.210</td>\n",
       "      <td>2022-06-26</td>\n",
       "      <td>83241</td>\n",
       "      <td>BOG</td>\n",
       "      <td>ADZ</td>\n",
       "      <td>NaT</td>\n",
       "      <td>NaN</td>\n",
       "    </tr>\n",
       "    <tr>\n",
       "      <th>3</th>\n",
       "      <td>LH7RNE</td>\n",
       "      <td>96902238</td>\n",
       "      <td>10D</td>\n",
       "      <td>2022-06-25 18:08:31.210</td>\n",
       "      <td>2022-06-26</td>\n",
       "      <td>83241</td>\n",
       "      <td>BOG</td>\n",
       "      <td>ADZ</td>\n",
       "      <td>NaT</td>\n",
       "      <td>NaN</td>\n",
       "    </tr>\n",
       "    <tr>\n",
       "      <th>4</th>\n",
       "      <td>LH7RNE</td>\n",
       "      <td>96902257</td>\n",
       "      <td>10E</td>\n",
       "      <td>2022-06-25 18:08:31.210</td>\n",
       "      <td>2022-06-26</td>\n",
       "      <td>83241</td>\n",
       "      <td>BOG</td>\n",
       "      <td>ADZ</td>\n",
       "      <td>NaT</td>\n",
       "      <td>NaN</td>\n",
       "    </tr>\n",
       "    <tr>\n",
       "      <th>...</th>\n",
       "      <td>...</td>\n",
       "      <td>...</td>\n",
       "      <td>...</td>\n",
       "      <td>...</td>\n",
       "      <td>...</td>\n",
       "      <td>...</td>\n",
       "      <td>...</td>\n",
       "      <td>...</td>\n",
       "      <td>...</td>\n",
       "      <td>...</td>\n",
       "    </tr>\n",
       "    <tr>\n",
       "      <th>52624</th>\n",
       "      <td>Y6IWGI</td>\n",
       "      <td>96159069</td>\n",
       "      <td>9B</td>\n",
       "      <td>2022-04-25 19:44:18.473</td>\n",
       "      <td>2022-06-26</td>\n",
       "      <td>56261</td>\n",
       "      <td>BOG</td>\n",
       "      <td>ADZ</td>\n",
       "      <td>2022-04-25</td>\n",
       "      <td>14:44:18.4733333</td>\n",
       "    </tr>\n",
       "    <tr>\n",
       "      <th>52625</th>\n",
       "      <td>C638WV</td>\n",
       "      <td>94442927</td>\n",
       "      <td>9C</td>\n",
       "      <td>2022-03-31 02:06:17.887</td>\n",
       "      <td>2022-06-26</td>\n",
       "      <td>56261</td>\n",
       "      <td>BOG</td>\n",
       "      <td>ADZ</td>\n",
       "      <td>NaT</td>\n",
       "      <td>NaN</td>\n",
       "    </tr>\n",
       "    <tr>\n",
       "      <th>52626</th>\n",
       "      <td>KEWTJK</td>\n",
       "      <td>93248601</td>\n",
       "      <td>9D</td>\n",
       "      <td>2022-03-14 15:50:41.870</td>\n",
       "      <td>2022-06-26</td>\n",
       "      <td>56261</td>\n",
       "      <td>BOG</td>\n",
       "      <td>ADZ</td>\n",
       "      <td>NaT</td>\n",
       "      <td>NaN</td>\n",
       "    </tr>\n",
       "    <tr>\n",
       "      <th>52627</th>\n",
       "      <td>W7PG7C</td>\n",
       "      <td>89396988</td>\n",
       "      <td>9E</td>\n",
       "      <td>2022-01-17 02:14:45.190</td>\n",
       "      <td>2022-06-26</td>\n",
       "      <td>56261</td>\n",
       "      <td>BOG</td>\n",
       "      <td>ADZ</td>\n",
       "      <td>NaT</td>\n",
       "      <td>NaN</td>\n",
       "    </tr>\n",
       "    <tr>\n",
       "      <th>52628</th>\n",
       "      <td>D97NNZ</td>\n",
       "      <td>91095118</td>\n",
       "      <td>9F</td>\n",
       "      <td>2022-02-12 03:26:02.480</td>\n",
       "      <td>2022-06-26</td>\n",
       "      <td>56261</td>\n",
       "      <td>BOG</td>\n",
       "      <td>ADZ</td>\n",
       "      <td>NaT</td>\n",
       "      <td>NaN</td>\n",
       "    </tr>\n",
       "  </tbody>\n",
       "</table>\n",
       "<p>2459 rows × 10 columns</p>\n",
       "</div>"
      ],
      "text/plain": [
       "      RecordLocator  PassengerID UnitDesignator          BookingBookDate  \\\n",
       "0            OC2MVG     96902153            10A  2022-06-25 18:07:29.063   \n",
       "1            LH7RNE     96902241            10B  2022-06-25 18:08:31.210   \n",
       "2            LH7RNE     96902237            10C  2022-06-25 18:08:31.210   \n",
       "3            LH7RNE     96902238            10D  2022-06-25 18:08:31.210   \n",
       "4            LH7RNE     96902257            10E  2022-06-25 18:08:31.210   \n",
       "...             ...          ...            ...                      ...   \n",
       "52624        Y6IWGI     96159069             9B  2022-04-25 19:44:18.473   \n",
       "52625        C638WV     94442927             9C  2022-03-31 02:06:17.887   \n",
       "52626        KEWTJK     93248601             9D  2022-03-14 15:50:41.870   \n",
       "52627        W7PG7C     89396988             9E  2022-01-17 02:14:45.190   \n",
       "52628        D97NNZ     91095118             9F  2022-02-12 03:26:02.480   \n",
       "\n",
       "      DepartureDate  FlightNumber DepartureStation ArrivalStation  \\\n",
       "0        2022-06-26         83241              BOG            ADZ   \n",
       "1        2022-06-26         83241              BOG            ADZ   \n",
       "2        2022-06-26         83241              BOG            ADZ   \n",
       "3        2022-06-26         83241              BOG            ADZ   \n",
       "4        2022-06-26         83241              BOG            ADZ   \n",
       "...             ...           ...              ...            ...   \n",
       "52624    2022-06-26         56261              BOG            ADZ   \n",
       "52625    2022-06-26         56261              BOG            ADZ   \n",
       "52626    2022-06-26         56261              BOG            ADZ   \n",
       "52627    2022-06-26         56261              BOG            ADZ   \n",
       "52628    2022-06-26         56261              BOG            ADZ   \n",
       "\n",
       "      SeatBookDate  SeatBookDateTime  \n",
       "0              NaT               NaN  \n",
       "1              NaT               NaN  \n",
       "2              NaT               NaN  \n",
       "3              NaT               NaN  \n",
       "4              NaT               NaN  \n",
       "...            ...               ...  \n",
       "52624   2022-04-25  14:44:18.4733333  \n",
       "52625          NaT               NaN  \n",
       "52626          NaT               NaN  \n",
       "52627          NaT               NaN  \n",
       "52628          NaT               NaN  \n",
       "\n",
       "[2459 rows x 10 columns]"
      ]
     },
     "execution_count": 29,
     "metadata": {},
     "output_type": "execute_result"
    }
   ],
   "source": [
    "df3 = df[df['DepartureDate'] == df['DepartureDate'][0]]\n",
    "df3"
   ]
  },
  {
   "cell_type": "code",
   "execution_count": 30,
   "id": "37a97d32",
   "metadata": {},
   "outputs": [
    {
     "data": {
      "text/html": [
       "<div>\n",
       "<style scoped>\n",
       "    .dataframe tbody tr th:only-of-type {\n",
       "        vertical-align: middle;\n",
       "    }\n",
       "\n",
       "    .dataframe tbody tr th {\n",
       "        vertical-align: top;\n",
       "    }\n",
       "\n",
       "    .dataframe thead th {\n",
       "        text-align: right;\n",
       "    }\n",
       "</style>\n",
       "<table border=\"1\" class=\"dataframe\">\n",
       "  <thead>\n",
       "    <tr style=\"text-align: right;\">\n",
       "      <th></th>\n",
       "      <th>RecordLocator</th>\n",
       "      <th>PassengerID</th>\n",
       "      <th>UnitDesignator</th>\n",
       "      <th>BookingBookDate</th>\n",
       "      <th>DepartureDate</th>\n",
       "      <th>FlightNumber</th>\n",
       "      <th>DepartureStation</th>\n",
       "      <th>ArrivalStation</th>\n",
       "      <th>SeatBookDate</th>\n",
       "      <th>SeatBookDateTime</th>\n",
       "    </tr>\n",
       "  </thead>\n",
       "  <tbody>\n",
       "    <tr>\n",
       "      <th>51407</th>\n",
       "      <td>E8433M</td>\n",
       "      <td>94751569</td>\n",
       "      <td>10A</td>\n",
       "      <td>2022-04-04 19:34:47.650</td>\n",
       "      <td>2022-06-26</td>\n",
       "      <td>56261</td>\n",
       "      <td>BOG</td>\n",
       "      <td>ADZ</td>\n",
       "      <td>2022-06-23</td>\n",
       "      <td>21:40:04.5266667</td>\n",
       "    </tr>\n",
       "    <tr>\n",
       "      <th>51408</th>\n",
       "      <td>E8433M</td>\n",
       "      <td>94751572</td>\n",
       "      <td>10B</td>\n",
       "      <td>2022-04-04 19:34:47.650</td>\n",
       "      <td>2022-06-26</td>\n",
       "      <td>56261</td>\n",
       "      <td>BOG</td>\n",
       "      <td>ADZ</td>\n",
       "      <td>2022-06-23</td>\n",
       "      <td>21:40:04.5266667</td>\n",
       "    </tr>\n",
       "    <tr>\n",
       "      <th>51409</th>\n",
       "      <td>F5U2XV</td>\n",
       "      <td>89376179</td>\n",
       "      <td>10C</td>\n",
       "      <td>2022-01-16 20:44:17.650</td>\n",
       "      <td>2022-06-26</td>\n",
       "      <td>56261</td>\n",
       "      <td>BOG</td>\n",
       "      <td>ADZ</td>\n",
       "      <td>NaT</td>\n",
       "      <td>NaN</td>\n",
       "    </tr>\n",
       "    <tr>\n",
       "      <th>51410</th>\n",
       "      <td>HB5LRG</td>\n",
       "      <td>91195363</td>\n",
       "      <td>10D</td>\n",
       "      <td>2022-02-13 19:45:31.510</td>\n",
       "      <td>2022-06-26</td>\n",
       "      <td>56261</td>\n",
       "      <td>BOG</td>\n",
       "      <td>ADZ</td>\n",
       "      <td>NaT</td>\n",
       "      <td>NaN</td>\n",
       "    </tr>\n",
       "    <tr>\n",
       "      <th>51411</th>\n",
       "      <td>E8433M</td>\n",
       "      <td>94751567</td>\n",
       "      <td>10E</td>\n",
       "      <td>2022-04-04 19:34:47.650</td>\n",
       "      <td>2022-06-26</td>\n",
       "      <td>56261</td>\n",
       "      <td>BOG</td>\n",
       "      <td>ADZ</td>\n",
       "      <td>2022-06-23</td>\n",
       "      <td>21:40:04.5266667</td>\n",
       "    </tr>\n",
       "    <tr>\n",
       "      <th>...</th>\n",
       "      <td>...</td>\n",
       "      <td>...</td>\n",
       "      <td>...</td>\n",
       "      <td>...</td>\n",
       "      <td>...</td>\n",
       "      <td>...</td>\n",
       "      <td>...</td>\n",
       "      <td>...</td>\n",
       "      <td>...</td>\n",
       "      <td>...</td>\n",
       "    </tr>\n",
       "    <tr>\n",
       "      <th>52624</th>\n",
       "      <td>Y6IWGI</td>\n",
       "      <td>96159069</td>\n",
       "      <td>9B</td>\n",
       "      <td>2022-04-25 19:44:18.473</td>\n",
       "      <td>2022-06-26</td>\n",
       "      <td>56261</td>\n",
       "      <td>BOG</td>\n",
       "      <td>ADZ</td>\n",
       "      <td>2022-04-25</td>\n",
       "      <td>14:44:18.4733333</td>\n",
       "    </tr>\n",
       "    <tr>\n",
       "      <th>52625</th>\n",
       "      <td>C638WV</td>\n",
       "      <td>94442927</td>\n",
       "      <td>9C</td>\n",
       "      <td>2022-03-31 02:06:17.887</td>\n",
       "      <td>2022-06-26</td>\n",
       "      <td>56261</td>\n",
       "      <td>BOG</td>\n",
       "      <td>ADZ</td>\n",
       "      <td>NaT</td>\n",
       "      <td>NaN</td>\n",
       "    </tr>\n",
       "    <tr>\n",
       "      <th>52626</th>\n",
       "      <td>KEWTJK</td>\n",
       "      <td>93248601</td>\n",
       "      <td>9D</td>\n",
       "      <td>2022-03-14 15:50:41.870</td>\n",
       "      <td>2022-06-26</td>\n",
       "      <td>56261</td>\n",
       "      <td>BOG</td>\n",
       "      <td>ADZ</td>\n",
       "      <td>NaT</td>\n",
       "      <td>NaN</td>\n",
       "    </tr>\n",
       "    <tr>\n",
       "      <th>52627</th>\n",
       "      <td>W7PG7C</td>\n",
       "      <td>89396988</td>\n",
       "      <td>9E</td>\n",
       "      <td>2022-01-17 02:14:45.190</td>\n",
       "      <td>2022-06-26</td>\n",
       "      <td>56261</td>\n",
       "      <td>BOG</td>\n",
       "      <td>ADZ</td>\n",
       "      <td>NaT</td>\n",
       "      <td>NaN</td>\n",
       "    </tr>\n",
       "    <tr>\n",
       "      <th>52628</th>\n",
       "      <td>D97NNZ</td>\n",
       "      <td>91095118</td>\n",
       "      <td>9F</td>\n",
       "      <td>2022-02-12 03:26:02.480</td>\n",
       "      <td>2022-06-26</td>\n",
       "      <td>56261</td>\n",
       "      <td>BOG</td>\n",
       "      <td>ADZ</td>\n",
       "      <td>NaT</td>\n",
       "      <td>NaN</td>\n",
       "    </tr>\n",
       "  </tbody>\n",
       "</table>\n",
       "<p>188 rows × 10 columns</p>\n",
       "</div>"
      ],
      "text/plain": [
       "      RecordLocator  PassengerID UnitDesignator          BookingBookDate  \\\n",
       "51407        E8433M     94751569            10A  2022-04-04 19:34:47.650   \n",
       "51408        E8433M     94751572            10B  2022-04-04 19:34:47.650   \n",
       "51409        F5U2XV     89376179            10C  2022-01-16 20:44:17.650   \n",
       "51410        HB5LRG     91195363            10D  2022-02-13 19:45:31.510   \n",
       "51411        E8433M     94751567            10E  2022-04-04 19:34:47.650   \n",
       "...             ...          ...            ...                      ...   \n",
       "52624        Y6IWGI     96159069             9B  2022-04-25 19:44:18.473   \n",
       "52625        C638WV     94442927             9C  2022-03-31 02:06:17.887   \n",
       "52626        KEWTJK     93248601             9D  2022-03-14 15:50:41.870   \n",
       "52627        W7PG7C     89396988             9E  2022-01-17 02:14:45.190   \n",
       "52628        D97NNZ     91095118             9F  2022-02-12 03:26:02.480   \n",
       "\n",
       "      DepartureDate  FlightNumber DepartureStation ArrivalStation  \\\n",
       "51407    2022-06-26         56261              BOG            ADZ   \n",
       "51408    2022-06-26         56261              BOG            ADZ   \n",
       "51409    2022-06-26         56261              BOG            ADZ   \n",
       "51410    2022-06-26         56261              BOG            ADZ   \n",
       "51411    2022-06-26         56261              BOG            ADZ   \n",
       "...             ...           ...              ...            ...   \n",
       "52624    2022-06-26         56261              BOG            ADZ   \n",
       "52625    2022-06-26         56261              BOG            ADZ   \n",
       "52626    2022-06-26         56261              BOG            ADZ   \n",
       "52627    2022-06-26         56261              BOG            ADZ   \n",
       "52628    2022-06-26         56261              BOG            ADZ   \n",
       "\n",
       "      SeatBookDate  SeatBookDateTime  \n",
       "51407   2022-06-23  21:40:04.5266667  \n",
       "51408   2022-06-23  21:40:04.5266667  \n",
       "51409          NaT               NaN  \n",
       "51410          NaT               NaN  \n",
       "51411   2022-06-23  21:40:04.5266667  \n",
       "...            ...               ...  \n",
       "52624   2022-04-25  14:44:18.4733333  \n",
       "52625          NaT               NaN  \n",
       "52626          NaT               NaN  \n",
       "52627          NaT               NaN  \n",
       "52628          NaT               NaN  \n",
       "\n",
       "[188 rows x 10 columns]"
      ]
     },
     "execution_count": 30,
     "metadata": {},
     "output_type": "execute_result"
    }
   ],
   "source": [
    "df4 = df3[df3['FlightNumber'] == df3['FlightNumber'][52624]]\n",
    "df4"
   ]
  },
  {
   "cell_type": "code",
   "execution_count": 31,
   "id": "888e70ed",
   "metadata": {},
   "outputs": [
    {
     "data": {
      "text/plain": [
       "KEWTJK    20\n",
       "PG5PKH    18\n",
       "E8433M     8\n",
       "RFEVTK     8\n",
       "C6G6XF     8\n",
       "          ..\n",
       "W8M9XS     1\n",
       "H6TLPF     1\n",
       "S85EGC     1\n",
       "S7PSUF     1\n",
       "F66UMF     1\n",
       "Name: RecordLocator, Length: 62, dtype: int64"
      ]
     },
     "execution_count": 31,
     "metadata": {},
     "output_type": "execute_result"
    }
   ],
   "source": [
    "values = df4['RecordLocator'].value_counts()\n",
    "courses = values.keys()\n",
    "values"
   ]
  },
  {
   "cell_type": "code",
   "execution_count": 32,
   "id": "03d574bf",
   "metadata": {},
   "outputs": [
    {
     "data": {
      "image/png": "[encoded data removed]",
      "text/plain": [
       "<Figure size 432x288 with 1 Axes>"
      ]
     },
     "metadata": {
      "needs_background": "light"
     },
     "output_type": "display_data"
    }
   ],
   "source": [
    "plt.bar(courses, values, color = 'darkblue')\n",
    "plt.xlabel(\"Reservas\")\n",
    "\n",
    "plt.show()"
   ]
  },
  {
   "cell_type": "code",
   "execution_count": 33,
   "id": "9a3b71a6",
   "metadata": {},
   "outputs": [
    {
     "data": {
      "text/plain": [
       "KEWTJK    20\n",
       "PG5PKH    18\n",
       "E8433M     8\n",
       "RFEVTK     8\n",
       "C6G6XF     8\n",
       "          ..\n",
       "W8M9XS     1\n",
       "H6TLPF     1\n",
       "S85EGC     1\n",
       "S7PSUF     1\n",
       "F66UMF     1\n",
       "Name: RecordLocator, Length: 62, dtype: int64"
      ]
     },
     "execution_count": 33,
     "metadata": {},
     "output_type": "execute_result"
    }
   ],
   "source": [
    "values"
   ]
  },
  {
   "cell_type": "code",
   "execution_count": 27,
   "id": "2cb981b6",
   "metadata": {},
   "outputs": [],
   "source": [
    "fechas = df['DepartureDate'].unique()\n",
    "NoVuelos = df['FlightNumber'].unique()"
   ]
  },
  {
   "cell_type": "code",
   "execution_count": 28,
   "id": "17cd3b16",
   "metadata": {},
   "outputs": [],
   "source": [
    "values = {}\n",
    "contador = 0\n",
    "for i in fechas:\n",
    "    df3 = df[df['DepartureDate'] == i]\n",
    "    NoVuelos = df3['FlightNumber'].unique()\n",
    "    for j in NoVuelos:\n",
    "        contador += 1\n",
    "        df4 = df3[df3['FlightNumber'] == j]\n",
    "        values[contador] = df4['RecordLocator'].value_counts()"
   ]
  },
  {
   "cell_type": "code",
   "execution_count": 29,
   "id": "74c63a75",
   "metadata": {},
   "outputs": [
    {
     "data": {
      "text/plain": [
       "LH7RNE    23\n",
       "YF8J9K    22\n",
       "OC2MVG    20\n",
       "EESQ6H    20\n",
       "X9IHQP    20\n",
       "UDIM5A    20\n",
       "K6BU5F    20\n",
       "W75Z6F    20\n",
       "ADJ12K    19\n",
       "Name: RecordLocator, dtype: int64"
      ]
     },
     "execution_count": 29,
     "metadata": {},
     "output_type": "execute_result"
    }
   ],
   "source": [
    "values[1]"
   ]
  },
  {
   "cell_type": "code",
   "execution_count": 30,
   "id": "68de7ab8",
   "metadata": {},
   "outputs": [],
   "source": [
    "vecTotal = []\n",
    "for i in values.keys(): \n",
    "    reservas = values[i]\n",
    "    for j in reservas:\n",
    "        vecTotal.append(j)"
   ]
  },
  {
   "cell_type": "code",
   "execution_count": 31,
   "id": "200d1c8e",
   "metadata": {},
   "outputs": [],
   "source": [
    "dfFinal = pd.DataFrame()"
   ]
  },
  {
   "cell_type": "code",
   "execution_count": 32,
   "id": "6e487492",
   "metadata": {},
   "outputs": [],
   "source": [
    "dfFinal['No. reservas'] = vecTotal"
   ]
  },
  {
   "cell_type": "code",
   "execution_count": 33,
   "id": "1928d138",
   "metadata": {},
   "outputs": [],
   "source": [
    "distr = dfFinal['No. reservas'].value_counts()"
   ]
  },
  {
   "cell_type": "code",
   "execution_count": 34,
   "id": "de6e5210",
   "metadata": {},
   "outputs": [],
   "source": [
    "courses = []\n",
    "values = []\n",
    "for i in distr.index:\n",
    "    courses.append(i)\n",
    "    values.append(distr[i])"
   ]
  },
  {
   "cell_type": "code",
   "execution_count": 41,
   "id": "3c3e4d31",
   "metadata": {
    "scrolled": false
   },
   "outputs": [
    {
     "data": {
      "image/png": "[encoded data removed]",
      "text/plain": [
       "<Figure size 432x288 with 1 Axes>"
      ]
     },
     "metadata": {
      "needs_background": "light"
     },
     "output_type": "display_data"
    },
    {
     "data": {
      "text/plain": [
       "<Figure size 216x216 with 0 Axes>"
      ]
     },
     "execution_count": 41,
     "metadata": {},
     "output_type": "execute_result"
    },
    {
     "data": {
      "text/plain": [
       "<Figure size 216x216 with 0 Axes>"
      ]
     },
     "metadata": {},
     "output_type": "display_data"
    }
   ],
   "source": [
    "from matplotlib.pyplot import figure\n",
    "plt.bar(courses, values, color = 'darkblue')\n",
    "plt.xlabel(\"Number of people per booking\")\n",
    "plt.ylabel(\"Frequency\")\n",
    "plt.show()\n",
    "plt.figure(figsize=(3, 3))"
   ]
  },
  {
   "cell_type": "code",
   "execution_count": 36,
   "id": "7deecdd5",
   "metadata": {},
   "outputs": [],
   "source": [
    "values1 = values/sum(values)"
   ]
  },
  {
   "cell_type": "code",
   "execution_count": 40,
   "id": "bec592a8",
   "metadata": {},
   "outputs": [
    {
     "data": {
      "image/png": "[encoded data removed]",
      "text/plain": [
       "<Figure size 432x288 with 1 Axes>"
      ]
     },
     "metadata": {
      "needs_background": "light"
     },
     "output_type": "display_data"
    },
    {
     "data": {
      "text/plain": [
       "<Figure size 216x216 with 0 Axes>"
      ]
     },
     "execution_count": 40,
     "metadata": {},
     "output_type": "execute_result"
    },
    {
     "data": {
      "text/plain": [
       "<Figure size 216x216 with 0 Axes>"
      ]
     },
     "metadata": {},
     "output_type": "display_data"
    }
   ],
   "source": [
    "plt.bar(courses, values1, color = 'darkblue')\n",
    "plt.xlabel(\"Number of people per booking\")\n",
    "plt.ylabel(\"Frequency\")\n",
    "plt.show()\n",
    "plt.figure(figsize=(3, 3))"
   ]
  },
  {
   "cell_type": "code",
   "execution_count": 38,
   "id": "359f5fa0",
   "metadata": {},
   "outputs": [
    {
     "data": {
      "text/plain": [
       "19537"
      ]
     },
     "execution_count": 38,
     "metadata": {},
     "output_type": "execute_result"
    }
   ],
   "source": [
    "sum(values)"
   ]
  },
  {
   "cell_type": "code",
   "execution_count": 39,
   "id": "285c61b8",
   "metadata": {},
   "outputs": [
    {
     "data": {
      "text/plain": [
       "KEWTJK    20\n",
       "PG5PKH    18\n",
       "E8433M     8\n",
       "RFEVTK     8\n",
       "C6G6XF     8\n",
       "          ..\n",
       "W8M9XS     1\n",
       "H6TLPF     1\n",
       "S85EGC     1\n",
       "S7PSUF     1\n",
       "F66UMF     1\n",
       "Name: RecordLocator, Length: 62, dtype: int64"
      ]
     },
     "execution_count": 39,
     "metadata": {},
     "output_type": "execute_result"
    }
   ],
   "source": [
    "df3 = df[df['DepartureDate'] == df['DepartureDate'][0]]\n",
    "df4 = df3[df3['FlightNumber'] == df3['FlightNumber'][52624]]\n",
    "df4['RecordLocator'].value_counts()"
   ]
  },
  {
   "cell_type": "code",
   "execution_count": null,
   "id": "2665fb07",
   "metadata": {},
   "outputs": [],
   "source": []
  },
  {
   "cell_type": "code",
   "execution_count": null,
   "id": "2a8a3dd4",
   "metadata": {},
   "outputs": [],
   "source": []
  }
 ],
 "metadata": {
  "kernelspec": {
   "display_name": "Python 3 (ipykernel)",
   "language": "python",
   "name": "python3"
  },
  "language_info": {
   "codemirror_mode": {
    "name": "ipython",
    "version": 3
   },
   "file_extension": ".py",
   "mimetype": "text/x-python",
   "name": "python",
   "nbconvert_exporter": "python",
   "pygments_lexer": "ipython3",
   "version": "3.9.7"
  }
 },
 "nbformat": 4,
 "nbformat_minor": 5
}
